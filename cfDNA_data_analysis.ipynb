{
 "cells": [
  {
   "cell_type": "code",
   "execution_count": null,
   "metadata": {},
   "outputs": [],
   "source": [
    "# PRESET\n",
    "\n",
    "%matplotlib inline\n",
    "\n",
    "import matplotlib as mpl\n",
    "import numpy as np\n",
    "import matplotlib.cm as cm\n",
    "import matplotlib.pyplot as plt\n",
    "import matplotlib.lines as lines\n",
    "import pandas as pd\n",
    "import scipy\n",
    "from scipy import stats\n",
    "import seaborn as sns\n",
    "import os\n",
    "from os import listdir\n",
    "from matplotlib.lines import Line2D\n",
    "from matplotlib import colors as mcolors\n",
    "from matplotlib.ticker import PercentFormatter\n",
    "\n",
    "import warnings\n",
    "warnings.filterwarnings('ignore')\n",
    "\n",
    "np.set_printoptions(suppress=True)\n",
    "np.set_printoptions(precision=4)\n",
    "plt_style = 'seaborn-notebook'\n",
    "pd.set_option('precision', 2)\n",
    "pd.set_option('max_columns',10)"
   ]
  },
  {
   "cell_type": "markdown",
   "metadata": {},
   "source": [
    "## To download "
   ]
  },
  {
   "cell_type": "markdown",
   "metadata": {},
   "source": [
    "# 1. IMPORT DATA"
   ]
  },
  {
   "cell_type": "markdown",
   "metadata": {},
   "source": [
    "## For kapa 1.5x samples"
   ]
  },
  {
   "cell_type": "code",
   "execution_count": null,
   "metadata": {},
   "outputs": [],
   "source": [
    "# direct to folder with dsDNA inserts files\n",
    "%cd ./dsDNA_inserts"
   ]
  },
  {
   "cell_type": "code",
   "execution_count": null,
   "metadata": {},
   "outputs": [],
   "source": [
    "# inputing all inserts files ... might take forever\n",
    "kapa_insert_files = os.listdir()\n",
    "kapa_insert_files.sort()\n",
    "frames = []\n",
    "newnames = []\n",
    "for file in kapa_insert_files:\n",
    "    if file.endswith(\"_dedup_inserts.txt\"):\n",
    "        frames.append(pd.read_csv(file, sep=',', names=[file]))\n",
    "        name = file.split('_inserts')[0]\n",
    "        newnames.append(name)\n",
    "        \n",
    "kapa_insert_df = pd.concat(frames, axis=1)\n",
    "\n",
    "oldnames = kapa_insert_df.columns\n",
    "finalnames = dict(zip(oldnames, newnames))\n",
    "kapa_insert_df.rename(columns = finalnames, inplace=True)"
   ]
  },
  {
   "cell_type": "code",
   "execution_count": null,
   "metadata": {},
   "outputs": [],
   "source": [
    "# check for all files\n",
    "kapa_insert_df.columns"
   ]
  },
  {
   "cell_type": "markdown",
   "metadata": {},
   "source": [
    "## For srsly 1.5x samples"
   ]
  },
  {
   "cell_type": "code",
   "execution_count": null,
   "metadata": {},
   "outputs": [],
   "source": [
    "# direct to folder with ssDNA inserts files\n",
    "%cd ..\n",
    "%cd ./ssDNA_inserts"
   ]
  },
  {
   "cell_type": "code",
   "execution_count": null,
   "metadata": {},
   "outputs": [],
   "source": [
    "# inputing all inserts files ... might take forever\n",
    "srsly_insert_files = os.listdir()\n",
    "srsly_insert_files.sort()\n",
    "frames = []\n",
    "newnames = []\n",
    "for file in srsly_insert_files:\n",
    "    if file.endswith(\"_dedup_inserts.txt\"):\n",
    "        frames.append(pd.read_csv(file, sep=',', names=[file]))\n",
    "        name = file.split('_inserts')[0]\n",
    "        newnames.append(name)\n",
    "        \n",
    "srsly_insert_df = pd.concat(frames, axis=1)\n",
    "\n",
    "oldnames = srsly_insert_df.columns\n",
    "finalnames = dict(zip(oldnames, newnames))\n",
    "srsly_insert_df.rename(columns = finalnames, inplace=True)"
   ]
  },
  {
   "cell_type": "code",
   "execution_count": null,
   "metadata": {},
   "outputs": [],
   "source": [
    "srsly_insert_df.columns"
   ]
  },
  {
   "cell_type": "markdown",
   "metadata": {},
   "source": [
    "#    For size-selected samples"
   ]
  },
  {
   "cell_type": "code",
   "execution_count": null,
   "metadata": {
    "scrolled": true
   },
   "outputs": [],
   "source": [
    "# direct to folder with size-selected inserts files\n",
    "%cd ..\n",
    "%cd ./size_selected_inserts"
   ]
  },
  {
   "cell_type": "code",
   "execution_count": null,
   "metadata": {},
   "outputs": [],
   "source": [
    "# inputing all inserts files ... might take forever\n",
    "ranger_insert_files = os.listdir()\n",
    "ranger_insert_files.sort()\n",
    "frames = []\n",
    "newnames = []\n",
    "for file in ranger_insert_files:\n",
    "    if file.endswith(\"_dedup_inserts.txt\"):\n",
    "        frames.append(pd.read_csv(file, sep=',', names=[file]))\n",
    "        name = file.split('_inserts')[0]\n",
    "        newnames.append(name)\n",
    "        \n",
    "ranger_insert_df = pd.concat(frames, axis=1)\n",
    "\n",
    "oldnames = ranger_insert_df.columns\n",
    "finalnames = dict(zip(oldnames, newnames))\n",
    "ranger_insert_df.rename(columns = finalnames, inplace=True)"
   ]
  },
  {
   "cell_type": "code",
   "execution_count": null,
   "metadata": {},
   "outputs": [],
   "source": [
    "# check for all files needed\n",
    "ranger_insert_df.columns"
   ]
  },
  {
   "cell_type": "markdown",
   "metadata": {},
   "source": [
    "# 2. Combining all human/virus data into one dataframe"
   ]
  },
  {
   "cell_type": "code",
   "execution_count": null,
   "metadata": {},
   "outputs": [],
   "source": [
    "# function to pool all human inserts into one file\n",
    "def human(species,dataframe):\n",
    "    templst = []\n",
    "    insert_df = dataframe.copy()\n",
    "    file = insert_df.columns\n",
    "    for i in file:\n",
    "        temp = i.split('_')\n",
    "        if temp[len(temp)-1] == 'dedup':\n",
    "            if species == 'human':\n",
    "                if temp[len(temp)-2] == 'human':\n",
    "                    templst.append(i)\n",
    "            elif species == 'virus':\n",
    "                if temp[len(temp)-2] != 'human':\n",
    "                    templst.append(i)\n",
    "    df = insert_df[templst]\n",
    "    return df"
   ]
  },
  {
   "cell_type": "markdown",
   "metadata": {},
   "source": [
    "## dsDNA SET"
   ]
  },
  {
   "cell_type": "markdown",
   "metadata": {},
   "source": [
    "HUMAN"
   ]
  },
  {
   "cell_type": "code",
   "execution_count": null,
   "metadata": {},
   "outputs": [],
   "source": [
    "# get all human inserts from KAPA set into 1 col\n",
    "human_kapa_df = human('human',kapa_insert_df)\n",
    "print(human_kapa_df.columns)\n",
    "human_kapa_df = human_kapa_df.T.stack().reset_index(name='Human')\n",
    "human_kapa_df = human_kapa_df.drop(['level_0','level_1'], axis=1)"
   ]
  },
  {
   "cell_type": "markdown",
   "metadata": {},
   "source": [
    "VIRUS"
   ]
  },
  {
   "cell_type": "code",
   "execution_count": null,
   "metadata": {},
   "outputs": [],
   "source": [
    "# get all the virus inserts into 1 col of each species\n",
    "all_adv_virus_kapa_df = kapa_insert_df[['ADV446-K-15x_S194_MK883610_dedup','ADV468-K-15x_S180_NC010956_dedup','ADV472-K-15x_S195_AC000018_dedup']]\n",
    "adv_virus_kapa_df = all_adv_virus_kapa_df.T.stack().reset_index(name='ADV_kapa')\n",
    "adv_virus_kapa_df = adv_virus_kapa_df.drop(['level_0','level_1'],axis=1)\n",
    "\n",
    "all_hsv_virus_kapa_df = kapa_insert_df[['HSV089-K-15x_S17_L001_NC001798_masked_dedup','HSV369-K-15x_S18_L001_NC001798_masked_dedup']]\n",
    "hsv_virus_kapa_df = all_hsv_virus_kapa_df.T.stack().reset_index(name='HSV_kapa')\n",
    "hsv_virus_kapa_df = hsv_virus_kapa_df.drop(['level_0','level_1'],axis=1)\n",
    "\n",
    "hhv_virus_kapa_df = kapa_insert_df[['HH6391-K-15x_S13_L001_AF157706_dedup']]\n",
    "hhv_virus_kapa_df = hhv_virus_kapa_df.rename(columns={'HH6391-K-15x_S13_L001_AF157706_dedup':'HH6_kapa'})\n",
    "\n",
    "all_ebv_virus_kapa_df = kapa_insert_df[['EBV057-K-15x_S177_NC007605_dedup','EBV152-K-15x_S179_NC007605_dedup','EBV158-K-15x_S192_NC007605_dedup']]\n",
    "ebv_virus_kapa_df = all_ebv_virus_kapa_df.T.stack().reset_index(name='EBV_kapa')\n",
    "ebv_virus_kapa_df = ebv_virus_kapa_df.drop(['level_0','level_1'],axis=1)\n",
    "\n",
    "all_vzv_virus_kapa_df = kapa_insert_df[['VZV043-K-15x_S189_NC001348_masked_dedup','VZV062-K-15x_S190_NC001348_masked_dedup','VZV079-K-15x_S191_NC001348_masked_dedup']]\n",
    "vzv_virus_kapa_df = all_vzv_virus_kapa_df.T.stack().reset_index(name='VZV_kapa')\n",
    "vzv_virus_kapa_df = vzv_virus_kapa_df.drop(['level_0','level_1'],axis=1)"
   ]
  },
  {
   "cell_type": "markdown",
   "metadata": {},
   "source": [
    "## ssDNA SET"
   ]
  },
  {
   "cell_type": "markdown",
   "metadata": {},
   "source": [
    "HUMAN"
   ]
  },
  {
   "cell_type": "code",
   "execution_count": null,
   "metadata": {},
   "outputs": [],
   "source": [
    "# get all human inserts from KAPA set into 1 col\n",
    "human_srsly_df = human('human',srsly_insert_df)\n",
    "print(human_srsly_df.columns)\n",
    "human_srsly_df = human_srsly_df.T.stack().reset_index(name='Human')\n",
    "human_srsly_df = human_srsly_df.drop(['level_0','level_1'], axis=1)"
   ]
  },
  {
   "cell_type": "markdown",
   "metadata": {},
   "source": [
    "VIRUS"
   ]
  },
  {
   "cell_type": "code",
   "execution_count": null,
   "metadata": {},
   "outputs": [],
   "source": [
    "# get all the virus inserts into 1 col of each species\n",
    "srsly_virus_df = human('virus',srsly_insert_df)\n",
    "\n",
    "#merge all ADV samples\n",
    "all_adv_virus_srsly_df = srsly_virus_df.iloc[:,0:3]\n",
    "print(all_adv_virus_srsly_df.columns)\n",
    "adv_virus_srsly_df = all_adv_virus_srsly_df.T.stack().reset_index(name='ADV_srsly')\n",
    "adv_virus_srsly_df = adv_virus_srsly_df.drop(['level_0','level_1'], axis=1)\n",
    "\n",
    "#merge all EBV samples\n",
    "all_ebv_virus_srsly_df = srsly_virus_df.iloc[:,3:6]\n",
    "print(all_ebv_virus_srsly_df.columns)\n",
    "ebv_virus_srsly_df = all_ebv_virus_srsly_df.T.stack().reset_index(name='EBV_srsly')\n",
    "ebv_virus_srsly_df = ebv_virus_srsly_df.drop(['level_0','level_1'], axis=1)\n",
    "\n",
    "#merge all VZV samples\n",
    "all_vzv_virus_srsly_df = srsly_virus_df.iloc[:,6:9]\n",
    "print(all_vzv_virus_srsly_df.columns)\n",
    "vzv_virus_srsly_df = all_vzv_virus_srsly_df.T.stack().reset_index(name='VZV_srsly')\n",
    "vzv_virus_srsly_df = vzv_virus_srsly_df.drop(['level_0','level_1'], axis=1)"
   ]
  },
  {
   "cell_type": "markdown",
   "metadata": {},
   "source": [
    "## Size selection SET"
   ]
  },
  {
   "cell_type": "markdown",
   "metadata": {},
   "source": [
    "HUMAN"
   ]
  },
  {
   "cell_type": "code",
   "execution_count": null,
   "metadata": {},
   "outputs": [],
   "source": [
    "human_ranger_df = human('human',ranger_insert_df)\n",
    "print(human_ranger_df.columns)\n",
    "human_ranger_df = human_ranger_df.T.stack().reset_index(name='Human_ranger')\n",
    "human_ranger_df = human_ranger_df.drop(['level_0','level_1'], axis=1)"
   ]
  },
  {
   "cell_type": "markdown",
   "metadata": {},
   "source": [
    "VIRUS"
   ]
  },
  {
   "cell_type": "code",
   "execution_count": null,
   "metadata": {},
   "outputs": [],
   "source": [
    "#merge all samples by virus type\n",
    "adv_virus_ranger_df = ranger_insert_df[['ADV446-ranger_S1_L001_MK883610_dedup','ADV468-ranger_S2_L001_NC010956_dedup','ADV472-ranger_S3_L001_AC000018_dedup']]\n",
    "adv_virus_ranger_df = adv_virus_ranger_df.T.stack().reset_index(name='ADV_ranger')\n",
    "adv_virus_ranger_df = adv_virus_ranger_df.drop(['level_0','level_1'],axis=1)\n",
    "\n",
    "ebv_virus_ranger_df = ranger_insert_df[['EBV057-ranger_S4_L001_NC007605_dedup','EBV152-ranger_S5_L001_NC007605_dedup','EBV158-ranger_S6_L001_NC007605_dedup']]\n",
    "ebv_virus_ranger_df = ebv_virus_ranger_df.T.stack().reset_index(name='EBV_ranger')\n",
    "ebv_virus_ranger_df = ebv_virus_ranger_df.drop(['level_0','level_1'],axis=1)\n",
    "\n",
    "hsv_virus_ranger_df = ranger_insert_df[['HSV089-ranger_S10_L001_NC001798_masked_dedup','HSV369-ranger_S11_L001_NC001798_masked_dedup']]\n",
    "hsv_virus_ranger_df = hsv_virus_ranger_df.T.stack().reset_index(name='HSV_ranger')\n",
    "hsv_virus_ranger_df = hsv_virus_ranger_df.drop(['level_0','level_1'],axis=1)\n",
    "\n",
    "hhv_virus_ranger_df = ranger_insert_df[['HH6391-ranger_S12_L001_AF157706_dedup']]\n",
    "hhv_virus_ranger_df = hhv_virus_ranger_df.rename(columns={'HH6391-ranger_S12_L001_AF157706_dedup':'HH6_ranger'})\n",
    "\n",
    "vzv_virus_ranger_df = ranger_insert_df[['VZV043-ranger_S7_L001_NC001348_masked_dedup','VZV062-ranger_S8_L001_NC001348_masked_dedup','VZV079-ranger_S9_L001_NC001348_masked_dedup']]\n",
    "vzv_virus_ranger_df = vzv_virus_ranger_df.T.stack().reset_index(name='VZV_ranger')\n",
    "vzv_virus_ranger_df = vzv_virus_ranger_df.drop(['level_0','level_1'],axis=1)"
   ]
  },
  {
   "cell_type": "code",
   "execution_count": null,
   "metadata": {},
   "outputs": [],
   "source": [
    "cd .."
   ]
  },
  {
   "cell_type": "markdown",
   "metadata": {},
   "source": [
    "# 3. For Fig2 - dsDNA vs ssDNA"
   ]
  },
  {
   "cell_type": "markdown",
   "metadata": {},
   "source": [
    "## Setting up dfs"
   ]
  },
  {
   "cell_type": "code",
   "execution_count": null,
   "metadata": {},
   "outputs": [],
   "source": [
    "# for density plots, samples were merged by virus type\n",
    "fig1adf = pd.concat([human_kapa_df, adv_virus_kapa_df, ebv_virus_kapa_df, vzv_virus_kapa_df], axis=1)\n",
    "print(fig1adf.columns)   \n",
    "fig2adf = pd.concat([human_srsly_df,adv_virus_srsly_df, ebv_virus_srsly_df, vzv_virus_srsly_df], axis=1)\n",
    "print(fig2adf.columns)"
   ]
  },
  {
   "cell_type": "code",
   "execution_count": null,
   "metadata": {},
   "outputs": [],
   "source": [
    "# for cummulaitve frequency plots, individual samples\n",
    "fig1df = pd.concat([human_kapa_df,all_adv_virus_kapa_df, all_ebv_virus_kapa_df, all_vzv_virus_kapa_df], axis=1)\n",
    "print(fig1df.columns)    \n",
    "fig2df = pd.concat([human_srsly_df,all_adv_virus_srsly_df, all_ebv_virus_srsly_df, all_vzv_virus_srsly_df], axis=1)\n",
    "print(fig2df.columns)    "
   ]
  },
  {
   "cell_type": "code",
   "execution_count": null,
   "metadata": {},
   "outputs": [],
   "source": [
    "# getting location for ratio plots\n",
    "fig10 =plt.figure(figsize=(6,3))\n",
    "\n",
    "ax1 = fig10.add_subplot(121)\n",
    "ax2 = fig10.add_subplot(122)\n",
    "(n1, bins1, bars1) = ax1.hist(fig1adf, bins=range(501), density=True, cumulative=True, alpha=1, histtype='step',linewidth=1.5)\n",
    "(n2, bins2, bars2) = ax2.hist(fig2adf, bins=range(501), density=True, cumulative=True, alpha=1, histtype='step',linewidth=1.5)"
   ]
  },
  {
   "cell_type": "code",
   "execution_count": null,
   "metadata": {},
   "outputs": [],
   "source": [
    "# creating df for ratio plots\n",
    "srs_ratio = pd.DataFrame({'Human':n2[0],'ADV':n2[3],'EBV':n2[2], 'VZV':n2[1]})\n",
    "srs_ratio['VZV_ratio'] = srs_ratio.VZV/srs_ratio.Human\n",
    "srs_ratio['EBV_ratio'] = srs_ratio.EBV/srs_ratio.Human\n",
    "srs_ratio['ADV_ratio'] = srs_ratio.ADV/srs_ratio.Human\n",
    "srs_ratio_plt = srs_ratio.iloc[:,4:]\n",
    "\n",
    "kapa_ratio = pd.DataFrame({'Human':n1[0],'ADV':n1[3],'EBV':n1[2], 'VZV':n1[1]})\n",
    "kapa_ratio['VZV_ratio'] = kapa_ratio.VZV/kapa_ratio.Human\n",
    "kapa_ratio['EBV_ratio'] = kapa_ratio.EBV/kapa_ratio.Human\n",
    "kapa_ratio['ADV_ratio'] = kapa_ratio.ADV/kapa_ratio.Human\n",
    "kapa_ratio_plt = kapa_ratio.iloc[:,4:]"
   ]
  },
  {
   "cell_type": "markdown",
   "metadata": {},
   "source": [
    "## dsDNA vs ssDNA plot"
   ]
  },
  {
   "cell_type": "code",
   "execution_count": null,
   "metadata": {
    "scrolled": true
   },
   "outputs": [],
   "source": [
    "# setting up figure basic\n",
    "plt.rcParams[\"font.family\"] = \"arial\"\n",
    "plt.rcParams.update({'font.size': 8.5, 'xtick.color':'dimgrey', 'ytick.color':'dimgrey', 'figure.facecolor':'white'})\n",
    "\n",
    "fig7 =plt.figure(figsize=(6.6,9))\n",
    "\n",
    "ax1 = fig7.add_subplot(321)\n",
    "ax2 = fig7.add_subplot(323)\n",
    "ax3 = fig7.add_subplot(322)\n",
    "ax4 = fig7.add_subplot(324)\n",
    "ax5 = fig7.add_subplot(325)\n",
    "ax6 = fig7.add_subplot(326)\n",
    "\n",
    "\n",
    "########################\n",
    "### for KAPA density ###\n",
    "########################\n",
    "\n",
    "# setting labels and colors\n",
    "labels2 = [ 'VZV', 'EBV', 'ADV','Human']\n",
    "\n",
    "colors2 = ['lightskyblue','limegreen','mediumorchid','darkorange']\n",
    "colors2.reverse()\n",
    "\n",
    "# histt2\n",
    "ax1.hist(fig1adf, bins=range(501), density=True, cumulative=False, alpha=1, histtype='step',linewidth=1, color = colors2,label=labels2)\n",
    "ax1.set_xlim(0,400)\n",
    "ax1.set_ylim(0,0.027)\n",
    "ax1.text(-0.1,1.15,'A',transform=ax1.transAxes,fontsize=14, fontweight='bold', va='top', ha='right')\n",
    "\n",
    "# to change legend\n",
    "handles2, l = ax1.get_legend_handles_labels()\n",
    "new_handles2 = [Line2D([], [], c=h.get_edgecolor()) for h in handles2]\n",
    "ax1.legend(handles = new_handles2, labels=labels2, ncol=1,frameon=False, loc='upper right')\n",
    "\n",
    "# change ticks to percent\n",
    "ax1.yaxis.set_major_formatter(PercentFormatter(1, decimals = 1,symbol=''))\n",
    "\n",
    "# set xy label\n",
    "ax1.set_xlabel('Fragment size',fontsize=10)\n",
    "ax1.set_ylabel('Percent of reads',fontsize=10)\n",
    "\n",
    "######################################\n",
    "### for KAPA cummulative frequency ###\n",
    "######################################\n",
    "\n",
    "# setting labels and colors\n",
    "labels = []\n",
    "lst = fig1df.columns\n",
    "for i in lst: \n",
    "    label = i.split('-')[0]\n",
    "    labels.append(label)\n",
    "print(labels)\n",
    "labels.reverse()\n",
    "print(labels)\n",
    "\n",
    "colors = ['darkorange','slateblue','mediumorchid','orchid','limegreen','lightgreen','palegreen','lightskyblue','lightblue','paleturquoise']\n",
    "\n",
    "# histtt\n",
    "ax2.hist(fig1df, bins=range(1001), density=True, cumulative=True, alpha=1, histtype='step',linewidth=1.5, color = colors,label=labels)\n",
    "ax2.set_xlim(0,400)\n",
    "ax2.text(-0.1,1.15,'C',transform=ax2.transAxes,fontsize=14, fontweight='bold', va='top', ha='right')\n",
    "\n",
    "# changing legend from box to line\n",
    "handles, l = ax2.get_legend_handles_labels()\n",
    "new_handles = [Line2D([], [], c=h.get_edgecolor()) for h in handles]\n",
    "ax2.legend(handles=new_handles, labels=labels, ncol=1,frameon=False, loc='lower right')\n",
    "\n",
    "# set xy label\n",
    "ax2.set_xlabel('Fragment size',fontsize=10)\n",
    "ax2.set_ylabel('Cumulative frequency',fontsize=10)\n",
    "\n",
    "#########################\n",
    "### for SRSLy density ###\n",
    "#########################\n",
    "\n",
    "# histt2\n",
    "ax3.hist(fig2adf, bins=range(501), density=True, cumulative=False, alpha=1, histtype='step',linewidth=1, color = colors2,label=labels2)\n",
    "ax3.set_xlim(0,400)\n",
    "ax3.set_ylim(0,0.027)\n",
    "ax3.text(-0.1,1.15,'B',transform=ax3.transAxes,fontsize=14, fontweight='bold', va='top', ha='right')\n",
    "\n",
    "# to change legend\n",
    "handles3, l3 = ax3.get_legend_handles_labels()\n",
    "new_handles3 = [Line2D([], [], c=h.get_edgecolor()) for h in handles3]\n",
    "ax3.legend(handles = new_handles3, labels=labels2, ncol=1,frameon=False, loc='upper right')\n",
    "\n",
    "# change ticks to percent\n",
    "ax3.yaxis.set_major_formatter(PercentFormatter(1, decimals = 1,symbol=''))\n",
    "\n",
    "# set xy label\n",
    "ax3.set_xlabel('Fragment size',fontsize=10)\n",
    "ax3.set_ylabel('Percent of reads',fontsize=10)\n",
    "\n",
    "#####################################\n",
    "### for cummulative frequency fig ###\n",
    "#####################################\n",
    "\n",
    "# histtt\n",
    "ax4.hist(fig2df, bins=range(1001), density=True, cumulative=True, alpha=1, histtype='step',linewidth=1.5, color = colors,label=labels)\n",
    "ax4.set_xlim(0,400)\n",
    "ax4.text(-0.1,1.15,'D',transform=ax4.transAxes,fontsize=14, fontweight='bold', va='top', ha='right')\n",
    "\n",
    "# changing legend from box to line\n",
    "handles4, l4 = ax4.get_legend_handles_labels()\n",
    "new_handles4 = [Line2D([], [], c=h.get_edgecolor()) for h in handles4]\n",
    "ax4.legend(handles=new_handles4, labels=labels, ncol=1,frameon=False, loc='lower right')\n",
    "\n",
    "# set xy label\n",
    "ax4.set_xlabel('Fragment size',fontsize=10)\n",
    "ax4.set_ylabel('Cumulative frequency',fontsize=10)\n",
    "\n",
    "\n",
    "#####################\n",
    "### for ratio fig ###\n",
    "#####################\n",
    "\n",
    "colors5 = ['lightskyblue','limegreen','mediumorchid']\n",
    "\n",
    "ax5 = kapa_ratio_plt.plot.line(ax=ax5, color=colors5)\n",
    "ax5.set_xlabel('Fragment size',fontsize=10)\n",
    "ax5.set_ylabel('Virus:Human Ratio',fontsize=10)\n",
    "ax5.text(-0.1,1.15,'E',transform=ax5.transAxes,fontsize=14, fontweight='bold', va='top', ha='right')\n",
    "\n",
    "ax6 = srs_ratio_plt.plot.line(ax=ax6, color=colors5)\n",
    "ax6.set_xlabel('Fragment size',fontsize=10)\n",
    "ax6.set_ylabel('Virus:Human Ratio',fontsize=10)\n",
    "ax6.text(-0.1,1.15,'F',transform=ax6.transAxes,fontsize=14, fontweight='bold', va='top', ha='right')\n",
    "\n",
    "# to change legend\n",
    "ax5.legend(labels=['VZV','EBV','ADV'], ncol=1,frameon=False, loc='upper right')\n",
    "ax5.set_xlim(0,400)\n",
    "ax5.set_ylim(0,20)\n",
    "ax6.legend(labels=['VZV','EBV','ADV'], ncol=1,frameon=False, loc='upper right')\n",
    "ax6.set_xlim(0,400)\n",
    "ax6.set_ylim(0,20)\n",
    "\n",
    "sns.despine()\n",
    "fig7.tight_layout()\n",
    "\n",
    "plt.savefig('Fig2_dsDNA_vs_ssDNA.eps',dpi=300)\n",
    "\n",
    "plt.show()\n"
   ]
  },
  {
   "cell_type": "markdown",
   "metadata": {},
   "source": [
    "# 4. For Fig3 - Size selection"
   ]
  },
  {
   "cell_type": "markdown",
   "metadata": {},
   "source": [
    "## Setting up dfs"
   ]
  },
  {
   "cell_type": "code",
   "execution_count": null,
   "metadata": {},
   "outputs": [],
   "source": [
    "# Combine KAPA and ranger human data\n",
    "human_df = pd.concat([human_kapa_df, human_ranger_df])\n",
    "\n",
    "# Combine KAPA and ranger virus data\n",
    "adv_df = pd.concat([adv_virus_kapa_df, adv_virus_ranger_df])\n",
    "ebv_df = pd.concat([ebv_virus_kapa_df, ebv_virus_ranger_df])\n",
    "hsv_df = pd.concat([hsv_virus_kapa_df, hsv_virus_ranger_df])\n",
    "hhv_df = pd.concat([hhv_virus_kapa_df, hhv_virus_ranger_df])\n",
    "vzv_df = pd.concat([vzv_virus_kapa_df, vzv_virus_ranger_df])"
   ]
  },
  {
   "cell_type": "markdown",
   "metadata": {},
   "source": [
    "## Size selection plot"
   ]
  },
  {
   "cell_type": "code",
   "execution_count": null,
   "metadata": {},
   "outputs": [],
   "source": [
    "## For size selecting plot\n",
    "plt.rcParams[\"font.family\"] = \"arial\"\n",
    "plt.rcParams.update({'font.size':10, 'xtick.labelsize':8, 'ytick.labelsize':8,'xtick.color':'dimgrey', 'ytick.color':'dimgrey', 'figure.facecolor':'white'})\n",
    "\n",
    "fig12 =plt.figure(figsize=(6.8,5))\n",
    "\n",
    "colors = ['tan','indigo']\n",
    "\n",
    "ax1 = fig12.add_subplot(231)\n",
    "ax2 = fig12.add_subplot(232)\n",
    "ax3 = fig12.add_subplot(233)\n",
    "ax4 = fig12.add_subplot(234)\n",
    "ax5 = fig12.add_subplot(235)\n",
    "ax6 = fig12.add_subplot(236)\n",
    "\n",
    "fig12.text(0.06, 0.5, 'Percentage of reads', ha='center', va='center',rotation='vertical')\n",
    "fig12.text(0.5, 0.1, 'Fragment Size', ha='center', va='center')\n",
    "\n",
    "ax1.hist(human_df, bins=range(501), density=True, cumulative=False, alpha=1, histtype='step',linewidth=1.5, color=colors)\n",
    "ax1.set_ylim(0,0.03)\n",
    "ax1.text(300,0.027,'Human', fontsize=10)\n",
    "ax1.set_xticks(np.arange(0, 450,100))\n",
    "ax1.yaxis.set_major_formatter(PercentFormatter(1, decimals = 1,symbol=''))\n",
    "\n",
    "ax2.hist(adv_df, bins=range(501), density=True, cumulative=False, alpha=1, histtype='step',linewidth=1.5,color=colors, label=['Size Selection', 'Pre-Size Selection'])\n",
    "ax2.set_ylim(0,0.03)\n",
    "ax2.text(300,0.027,'ADV', fontsize=10)\n",
    "ax2.set_xticks(np.arange(0, 450,100))\n",
    "ax2.yaxis.set_major_formatter(PercentFormatter(1, decimals = 1,symbol=''))\n",
    "\n",
    "ax3.hist(ebv_df, bins=range(501), density=True, cumulative=False, alpha=1, histtype='step',linewidth=1.5, color=colors)\n",
    "ax3.set_ylim(0,0.03)\n",
    "ax3.text(300,0.027,'EBV', fontsize=10)\n",
    "ax3.set_xticks(np.arange(0, 450,100))\n",
    "ax3.yaxis.set_major_formatter(PercentFormatter(1, decimals = 1,symbol=''))\n",
    "\n",
    "ax4.hist(hhv_df, bins=range(501), density=True, cumulative=False, alpha=1, histtype='step',linewidth=1.5, color=colors)\n",
    "ax4.set_ylim(0,0.03)\n",
    "ax4.text(300,0.027,'HHV-6', fontsize=10)\n",
    "ax4.set_xticks(np.arange(0, 450,100))\n",
    "ax4.yaxis.set_major_formatter(PercentFormatter(1, decimals = 1,symbol=''))\n",
    "\n",
    "ax5.hist(hsv_df, bins=range(501), density=True, cumulative=False, alpha=1, histtype='step',linewidth=1.5, color=colors)\n",
    "ax5.set_ylim(0,0.03)\n",
    "ax5.text(300,0.027,'HSV-2', fontsize=10)\n",
    "ax5.set_xticks(np.arange(0, 450,100))\n",
    "ax5.yaxis.set_major_formatter(PercentFormatter(1, decimals = 1,symbol=''))\n",
    "\n",
    "ax6.hist(vzv_df, bins=range(501), density=True, cumulative=False, alpha=1, histtype='step',linewidth=1.5, color=colors)\n",
    "ax6.set_ylim(0,0.03)\n",
    "ax6.text(300,0.027,'VZV', fontsize=10)\n",
    "ax6.set_xticks(np.arange(0, 450,100))\n",
    "ax6.yaxis.set_major_formatter(PercentFormatter(1, decimals = 1,symbol=''))\n",
    "\n",
    "fig12.subplots_adjust(bottom=0.2)\n",
    "\n",
    "# changing legend from box to line\n",
    "handles4, l4 = ax2.get_legend_handles_labels()\n",
    "new_handles4 = [Line2D([], [], c=h.get_edgecolor()) for h in handles4]\n",
    "ax5.legend(handles=new_handles4, labels=['Size Selection','Pre-Size Selection'], ncol=2,frameon=False, loc='lower center',prop={'size': 10}, bbox_to_anchor=(0.4,-0.6))\n",
    "sns.despine();\n",
    "\n",
    "plt.savefig('Fig3_size_selection.eps',dpi=300,facecolor=ax1.get_facecolor(), edgecolor='none')"
   ]
  },
  {
   "cell_type": "markdown",
   "metadata": {},
   "source": [
    "# 5. For fold change fig"
   ]
  },
  {
   "cell_type": "markdown",
   "metadata": {},
   "source": [
    "## import dfs"
   ]
  },
  {
   "cell_type": "code",
   "execution_count": null,
   "metadata": {},
   "outputs": [],
   "source": [
    "folddf = pd.read_excel('fold_change.xlsx')\n",
    "folddf = folddf.replace(regex={'HH6': 'HHV-6', 'HSV': 'HSV-2'})\n",
    "folddf"
   ]
  },
  {
   "cell_type": "markdown",
   "metadata": {},
   "source": [
    "## plotting"
   ]
  },
  {
   "cell_type": "code",
   "execution_count": null,
   "metadata": {},
   "outputs": [],
   "source": [
    "palette = sns.color_palette(\"Set2\",5)\n",
    "\n",
    "plt.rcParams[\"font.family\"] = \"arial\"\n",
    "plt.rcParams.update({'font.size':12, 'xtick.labelsize':10, 'ytick.labelsize':10,'xtick.color':'dimgrey', 'ytick.color':'dimgrey', 'figure.facecolor':'white'})\n",
    "\n",
    "fig13, (ax2, ax1) = plt.subplots(1, 2, figsize=(6.8, 3.4))\n",
    "\n",
    "g = sns.scatterplot(x='percent_virus_preSS',y='percent_virus_postSS',data=folddf, hue='type',ax=ax1, palette=palette)\n",
    "x = np.linspace(0, 15, 1000)\n",
    "#ax1.set_ylim(0,100)\n",
    "ax1.plot(x,x, color='gray', linestyle='--', linewidth=1)\n",
    "ax1.set(xscale=\"log\",yscale=\"log\")\n",
    "ax1.set_aspect('equal', adjustable='box')\n",
    "ax1.legend(bbox_to_anchor=(1.3, 0), fontsize=11,loc='lower right', frameon=False, handletextpad=0,markerscale=0.75)\n",
    "ax1.set_ylabel('Viral fraction post-selection', fontsize=11)\n",
    "ax1.set_xlabel('Viral fraction pre-selection', fontsize=11)\n",
    "ax1.text(-0.1,1.15,'B',transform=ax1.transAxes,fontsize=14, fontweight='bold', va='top', ha='right')\n",
    "\n",
    "g = sns.stripplot(y='fold_enrichment',x='type',data=folddf,ax=ax2, palette=palette)\n",
    "ax2.axhline(y=1, color='gray', linewidth=1.0, linestyle='--')\n",
    "ax2.set_ylabel('Fold viral enrichment', fontsize=11)\n",
    "ax2.set_xlabel('Virus', fontsize=12)\n",
    "ax2.set_ylim(0,15)\n",
    "ax2.text(-0.1,1.15,'A',transform=ax2.transAxes,fontsize=14, fontweight='bold', va='top', ha='right')\n",
    "\n",
    "fig13.tight_layout()\n",
    "\n",
    "sns.despine();\n",
    "\n",
    "plt.savefig('Fig4_fold_change.eps',dpi=300)\n",
    "plt.show()"
   ]
  },
  {
   "cell_type": "markdown",
   "metadata": {},
   "source": [
    "# 6. For Chrx plot"
   ]
  },
  {
   "cell_type": "code",
   "execution_count": null,
   "metadata": {},
   "outputs": [],
   "source": []
  },
  {
   "cell_type": "code",
   "execution_count": null,
   "metadata": {},
   "outputs": [],
   "source": [
    "chrx_df = pd.read_excel('chrx_table.xlsx')\n",
    "chrx_df_merge = chrx_df.groupby(['Chrx','sample','prep','dup']).sum().reset_index()\n",
    "order = ['Chrx 1', 'Chrx 2', 'Chrx 3', 'Chrx 4', 'Chrx 5','Chrx 6','Chrx 7', 'Chrx 8','Chrx 9','Chrx 10','Chrx 11', 'Chrx 12','Chrx 13','Chrx 14', 'Chrx 15','Chrx 16','Chrx 17','Chrx 18','Chrx 19','Chrx 20','Chrx 21','Chrx 22','Chrx X','Chrx Y','Mito','Unlocalized']\n",
    "mapping = {Chrx: i for i, Chrx in enumerate(order)}\n",
    "key = chrx_df_merge['Chrx'].map(mapping) \n",
    "chrx_df_merge = chrx_df_merge.iloc[key.argsort()]\n",
    "chrx_df_merge_dedup = chrx_df_merge[chrx_df_merge['dup']=='yes']\n",
    "chrx_df_merge_no_dedup = chrx_df_merge[chrx_df_merge['dup']=='no']"
   ]
  },
  {
   "cell_type": "code",
   "execution_count": null,
   "metadata": {},
   "outputs": [],
   "source": [
    "chrx_df_merge_dedup = chrx_df_merge_dedup.sort_values(by=['prep','Chrx'])\n",
    "key = chrx_df_merge_dedup['Chrx'].map(mapping) \n",
    "chrx_df_merge_dedup = chrx_df_merge_dedup.iloc[key.argsort()]\n",
    "chrx_df_merge_no_dedup = chrx_df_merge_no_dedup.sort_values(by=['prep','Chrx'])\n",
    "key2 = chrx_df_merge_no_dedup['Chrx'].map(mapping) \n",
    "chrx_df_merge_no_dedup = chrx_df_merge_no_dedup.iloc[key2.argsort()]"
   ]
  },
  {
   "cell_type": "code",
   "execution_count": null,
   "metadata": {},
   "outputs": [],
   "source": [
    "fig24,ax1 =plt.subplots(figsize=(6.8,3))\n",
    "\n",
    "plt.rcParams[\"font.family\"] = \"arial\"\n",
    "plt.rcParams.update({'font.size': 9, 'xtick.labelsize':7, 'ytick.labelsize':7,'xtick.color':'black', 'ytick.color':'black', 'figure.facecolor':'white'})\n",
    "\n",
    "bar1 = sns.barplot(ax=ax1,x='Chrx',y=\"percent\",hue='prep', data=chrx_df_merge_no_dedup, palette=['#1A535C','#b30000'],ci=None)\n",
    "bar2 = sns.barplot(ax=ax1,x='Chrx',y='percent',hue='prep', data=chrx_df_merge_dedup, palette=['#4ECDC4','#ef6548'],ci=None)\n",
    "\n",
    "labels = ['Chrx 1', 'Chrx 2', 'Chrx 3', 'Chrx 4', 'Chrx 5','Chrx 6','Chrx 7', 'Chrx 8','Chrx 9','Chrx 10','Chrx 11', 'Chrx 12','Chrx 13','Chrx 14', 'Chrx 15','Chrx 16','Chrx 17','Chrx 18','Chrx 19','Chrx 20','Chrx 21','Chrx 22','Chrx X','Chrx Y','Unlocalized\\nHuman','Mitochondria']\n",
    "\n",
    "ax1.set_xlabel('')\n",
    "ax1.set_xticklabels(labels = labels,rotation=70, color='k')\n",
    "ax1.set_ylabel('Percentage of reads', fontsize=9)\n",
    "ax1.set_ylim(0,9)\n",
    "\n",
    "plt.legend(['Pre-size selection duplicate','Post-size selection duplicate','Pre-size selection human','Post-size selection human'],bbox_to_anchor=[0.9,1],frameon=False,ncol=1)\n",
    "\n",
    "sns.despine()\n",
    "\n",
    "fig24.subplots_adjust(bottom=0.25)\n",
    "\n",
    "plt.savefig('Fig5_chrx.eps',dpi=300)"
   ]
  },
  {
   "cell_type": "markdown",
   "metadata": {},
   "source": [
    "# 7. For Reads distribution plot"
   ]
  },
  {
   "cell_type": "code",
   "execution_count": null,
   "metadata": {},
   "outputs": [],
   "source": [
    "distr_df = pd.read_excel('reads_distribution.xlsx')\n",
    "ranger_df = distr_df[distr_df['prep']=='r']\n",
    "kapa_df = distr_df[distr_df['prep']=='K']\n",
    "srsly_df = distr_df[distr_df['prep']=='S']"
   ]
  },
  {
   "cell_type": "code",
   "execution_count": null,
   "metadata": {},
   "outputs": [],
   "source": [
    "palette = sns.color_palette(\"Spectral\",8)\n",
    "\n",
    "plt.rcParams[\"font.family\"] = \"arial\"\n",
    "plt.rcParams.update({'font.size': 8.5,'xtick.labelsize':7, 'ytick.labelsize':7, 'xtick.color':'dimgrey', 'ytick.color':'dimgrey', 'figure.facecolor':'white'})\n",
    "\n",
    "fig8,(ax1,ax2,ax3) =plt.subplots(1,3,figsize=(6.8,4), sharex=False, sharey=False)\n",
    "\n",
    "bar1 = sns.barplot(ax=ax2,y='Sample',x='all',data=ranger_df, color=palette[4],label=\"Unclassifed reads\")\n",
    "bar2 = sns.barplot(ax=ax2, y=\"Sample\",x=\"all-unmap\",data=ranger_df,color=palette[2],label='Duplicate reads')\n",
    "bar3 = sns.barplot(ax=ax2, y=\"Sample\",x=\"all-unmap-dup\",data=ranger_df,color=palette[0],label='Virus')\n",
    "bar4 = sns.barplot(ax=ax2, y=\"Sample\",x=\"all-unmap-dup-virus\",data=ranger_df,color=palette[6],label='Mapped to Human')\n",
    "ax2.text(-0.1,1.07,'B',transform=ax2.transAxes,fontsize=14, fontweight='bold', va='top', ha='right')\n",
    "\n",
    "bar5 = sns.barplot(ax=ax1,y='Sample',x='all',data=kapa_df, color=palette[4],label=\"Unclassified\")\n",
    "bar6 = sns.barplot(ax=ax1, y=\"Sample\",x=\"all-unmap\",data=kapa_df, color=palette[2],label='Duplicate')\n",
    "bar7 = sns.barplot(ax=ax1, y=\"Sample\",x=\"all-unmap-dup\",data=kapa_df, color=palette[0],label='Virus')\n",
    "bar8 = sns.barplot(ax=ax1, y=\"Sample\",x=\"all-unmap-dup-virus\",data=kapa_df, color=palette[6],label='Human')\n",
    "ax1.text(-0.1,1.07,'A',transform=ax1.transAxes,fontsize=14, fontweight='bold', va='top', ha='right')\n",
    "\n",
    "bar9 = sns.barplot(ax=ax3,y='Sample',x='all',data=srsly_df, color=palette[4],label=\"Unclassified\")\n",
    "bar10 = sns.barplot(ax=ax3, y=\"Sample\",x=\"all-unmap\",data=srsly_df, color=palette[2],label='Duplicate')\n",
    "bar11 = sns.barplot(ax=ax3, y=\"Sample\",x=\"all-unmap-dup\",data=srsly_df, color=palette[0],label='Virus')\n",
    "bar12 = sns.barplot(ax=ax3, y=\"Sample\",x=\"all-unmap-dup-virus\",data=srsly_df, color=palette[6],label='Human')\n",
    "ax3.text(-0.1,1.07,'C',transform=ax3.transAxes,fontsize=14, fontweight='bold', va='top', ha='right')\n",
    "\n",
    "ax2.set_ylabel('')\n",
    "ax3.set_ylabel('')\n",
    "ax1.set_ylabel('Sample', rotation=90, fontsize=10)\n",
    "ax2.set_xlabel('Percentage of reads', fontsize=10)\n",
    "ax3.set_xlabel('')\n",
    "ax1.set_xlabel('')\n",
    "#ax1.set_xlabel('Percentage of reads',fontsize=10)\n",
    "\n",
    "handlesz, labelsz = ax1.get_legend_handles_labels()\n",
    "handlesz.reverse()\n",
    "labelsz.reverse()\n",
    "\n",
    "fig8.tight_layout()\n",
    "\n",
    "lgd = plt.legend(handlesz, labelsz,bbox_to_anchor=[-0.8,-0.25],ncol=4, loc='lower center',frameon=False,handletextpad=0.3,columnspacing=2.2, fontsize=10)\n",
    "\n",
    "fig8.subplots_adjust(bottom=0.2)\n",
    "\n",
    "sns.despine()\n",
    "\n",
    "plt.savefig('FigS1_reads_distribution.eps',dpi=300,facecolor=ax1.get_facecolor(), edgecolor='none')"
   ]
  },
  {
   "cell_type": "markdown",
   "metadata": {},
   "source": [
    "# 8. For Mitochondria distribution plot"
   ]
  },
  {
   "cell_type": "markdown",
   "metadata": {},
   "source": [
    "## setting dfs "
   ]
  },
  {
   "cell_type": "code",
   "execution_count": null,
   "metadata": {},
   "outputs": [],
   "source": [
    "# direct to folder with ssDNA inserts files again\n",
    "%cd ./ssDNA_inserts"
   ]
  },
  {
   "cell_type": "code",
   "execution_count": null,
   "metadata": {},
   "outputs": [],
   "source": [
    "# inputing all mito inserts files ... might take forever\n",
    "mito_insert_files = os.listdir()\n",
    "mito_insert_files.sort()\n",
    "frames = []\n",
    "newnames = []\n",
    "for file in mito_insert_files:\n",
    "    if file.endswith(\"dedup_mito_inserts.txt\"):\n",
    "        frames.append(pd.read_csv(file, sep=',', names=[file]))\n",
    "        name = file.split('mito_inserts')[0]\n",
    "        newnames.append(name)\n",
    "mito_insert_df = pd.concat(frames, axis=1)\n",
    "oldnames = mito_insert_df.columns\n",
    "finalnames = dict(zip(oldnames, newnames))\n",
    "mito_insert_df.rename(columns = finalnames, inplace=True)\n",
    "\n",
    "mito_ssdna_df = mito_insert_df.T.stack().reset_index(name='ssDNA_mito')\n",
    "mito_ssdna_df = mito_ssdna_df.drop(['level_0','level_1'], axis=1)"
   ]
  },
  {
   "cell_type": "code",
   "execution_count": null,
   "metadata": {},
   "outputs": [],
   "source": [
    "# direct to folder with dsDNA inserts files again\n",
    "%cd ..\n",
    "%cd ./dsDNA_inserts"
   ]
  },
  {
   "cell_type": "code",
   "execution_count": null,
   "metadata": {},
   "outputs": [],
   "source": [
    "# inputing all mito inserts files ... might take forever\n",
    "mito_insert_files = os.listdir()\n",
    "mito_insert_files.sort()\n",
    "frames = []\n",
    "newnames = []\n",
    "for file in mito_insert_files:\n",
    "    if file.endswith(\"dedup_mito_inserts.txt\"):\n",
    "        frames.append(pd.read_csv(file, sep=',', names=[file]))\n",
    "        name = file.split('mito_inserts')[0]\n",
    "        newnames.append(name)\n",
    "mito_insert_df = pd.concat(frames, axis=1)\n",
    "oldnames = mito_insert_df.columns\n",
    "finalnames = dict(zip(oldnames, newnames))\n",
    "mito_insert_df.rename(columns = finalnames, inplace=True)\n",
    "\n",
    "mito_dsdna_df = mito_insert_df.T.stack().reset_index(name='dsDNA_mito')\n",
    "mito_dsdna_df = mito_dsdna_df.drop(['level_0','level_1'], axis=1)"
   ]
  },
  {
   "cell_type": "code",
   "execution_count": null,
   "metadata": {},
   "outputs": [],
   "source": [
    "mito_dedup_df = pd.concat([mito_dsdna_df, mito_ssdna_df],axis=1)"
   ]
  },
  {
   "cell_type": "markdown",
   "metadata": {},
   "source": [
    "## plotting"
   ]
  },
  {
   "cell_type": "code",
   "execution_count": null,
   "metadata": {},
   "outputs": [],
   "source": [
    "plt.rcParams[\"font.family\"] = \"arial\"\n",
    "plt.rcParams.update({'font.size':12, 'xtick.labelsize':10, 'ytick.labelsize':10,'xtick.color':'dimgrey', 'ytick.color':'dimgrey', 'figure.facecolor':'white'})\n",
    "\n",
    "fig47 =plt.figure(figsize=(5,3))\n",
    "\n",
    "ax1 = fig47.add_subplot(111)\n",
    "ax2 = fig47.add_subplot(122)\n",
    "(nw,barsw,binsw) = ax1.hist(kapa_insert_df['count'], bins=range(501), density=True, cumulative=False, alpha=1, histtype='step',linewidth=1.5)\n",
    "\n",
    "ax1.set_ylim(0,0.02)\n",
    "ax1.set_xticks(np.arange(0, 450,100))\n",
    "ax1.yaxis.set_major_formatter(PercentFormatter(1, decimals = 1,symbol=''))\n",
    "\n",
    "# changing legend from box to line\n",
    "handles7, l7 = ax1.get_legend_handles_labels()\n",
    "new_handles7 = [Line2D([], [], c=h.get_edgecolor()) for h in handles7]\n",
    "ax1.legend(handles=new_handles7, labels=['ssDNA library preparation','dsDNA library preparation'], ncol=1,frameon=False, loc='upper right',prop={'size': 10})\n",
    "\n",
    "sns.despine();\n",
    "plt.savefig('FigS2_mito_fragments.eps')\n",
    "plt.show()\n"
   ]
  },
  {
   "cell_type": "code",
   "execution_count": null,
   "metadata": {},
   "outputs": [],
   "source": []
  }
 ],
 "metadata": {
  "kernelspec": {
   "display_name": "Python 3",
   "language": "python",
   "name": "python3"
  },
  "language_info": {
   "codemirror_mode": {
    "name": "ipython",
    "version": 3
   },
   "file_extension": ".py",
   "mimetype": "text/x-python",
   "name": "python",
   "nbconvert_exporter": "python",
   "pygments_lexer": "ipython3",
   "version": "3.8.5"
  }
 },
 "nbformat": 4,
 "nbformat_minor": 4
}
